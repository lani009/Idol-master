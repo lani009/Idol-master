{
 "cells": [
  {
   "cell_type": "code",
   "execution_count": 1,
   "metadata": {
    "tags": []
   },
   "outputs": [
    {
     "output_type": "stream",
     "name": "stderr",
     "text": "Warning : `load_model` does not return WordVectorModel or SupervisedModel any more, but a `FastText` object which is very similar.\n"
    }
   ],
   "source": [
    "import fasttext\n",
    "model = fasttext.FastText.load_model(\"./model/fasttext.bin\")"
   ]
  },
  {
   "cell_type": "code",
   "execution_count": 2,
   "metadata": {},
   "outputs": [],
   "source": [
    "from numpy import dot\n",
    "from numpy.linalg import norm\n",
    "import numpy as np\n",
    "def cos_sim(A, B):\n",
    "       return dot(A, B)/(norm(A)*norm(B))"
   ]
  },
  {
   "cell_type": "code",
   "execution_count": 3,
   "metadata": {},
   "outputs": [
    {
     "output_type": "execute_result",
     "data": {
      "text/plain": "0.14886048"
     },
     "metadata": {},
     "execution_count": 3
    }
   ],
   "source": [
    "cos_sim(model.get_word_vector(\"많음\"), model.get_word_vector(\"분위기\"))"
   ]
  },
  {
   "cell_type": "code",
   "execution_count": 4,
   "metadata": {},
   "outputs": [
    {
     "output_type": "execute_result",
     "data": {
      "text/plain": "[('생각', 'NNG'),\n ('보다', 'JKM'),\n ('사람', 'NNG'),\n ('들', 'XSN'),\n ('도', 'JX'),\n ('많', 'VA'),\n ('았', 'EPT'),\n ('고', 'ECE'),\n ('넓', 'VA'),\n ('어서', 'ECD'),\n ('놀라', 'VV'),\n ('었', 'EPT'),\n ('어요', 'EFN'),\n ('!', 'SF'),\n ('외관', 'NNG'),\n ('에서', 'JKM'),\n ('부터', 'JX'),\n ('풍기', 'VV'),\n ('는', 'ETD'),\n ('아늑', 'XR'),\n ('하', 'XSA'),\n ('ㄴ', 'ETD'),\n ('분위기', 'NNG'),\n ('와', 'JKM'),\n ('딱', 'MAG'),\n ('안성맞춤', 'NNG'),\n ('의', 'JKG'),\n ('인테리어', 'NNG'),\n ('로', 'JKM'),\n ('쾌적', 'XR'),\n ('하', 'XSA'),\n ('고', 'ECE'),\n ('좋', 'VA'),\n ('더', 'EPT'),\n ('라구요', 'EFN'),\n ('~', 'SO')]"
     },
     "metadata": {},
     "execution_count": 4
    }
   ],
   "source": [
    "from konlpy.tag import Kkma\n",
    "parser = Kkma()\n",
    "parsed_data = parser.pos(\"생각보다 사람들도 많았고 넓어서 놀랐어용! 외관에서부터 풍기는 아늑한분위기와 딱 안성맞춤의 인테리어로 쾌적하고 좋더라구요~\")\n",
    "parsed_data"
   ]
  },
  {
   "cell_type": "code",
   "execution_count": 5,
   "metadata": {},
   "outputs": [
    {
     "output_type": "execute_result",
     "data": {
      "text/plain": "[('생각', 'Noun'),\n ('보다', 'Josa'),\n ('사람', 'Noun'),\n ('들', 'Suffix'),\n ('도', 'Josa'),\n ('많다', 'Adjective'),\n ('넓다', 'Adjective'),\n ('놀라다', 'Verb'),\n ('!', 'Punctuation'),\n ('외관', 'Noun'),\n ('에서부터', 'Josa'),\n ('풍기다', 'Verb'),\n ('아늑하다', 'Adjective'),\n ('분위기', 'Noun'),\n ('와', 'Josa'),\n ('딱', 'Adverb'),\n ('안성맞춤', 'Noun'),\n ('의', 'Josa'),\n ('인테리어', 'Noun'),\n ('로', 'Josa'),\n ('쾌적하다', 'Adjective'),\n ('좋다', 'Adjective'),\n ('~', 'Punctuation')]"
     },
     "metadata": {},
     "execution_count": 5
    }
   ],
   "source": [
    "from konlpy.tag import Twitter\n",
    "parser = Twitter()\n",
    "parsed_data = parser.pos(\"생각보다 사람들도 많았고 넓어서 놀랐어용! 외관에서부터 풍기는 아늑한분위기와 딱 안성맞춤의 인테리어로 쾌적하고 좋더라구요~\", stem=True)\n",
    "parsed_data"
   ]
  },
  {
   "cell_type": "code",
   "execution_count": 13,
   "metadata": {},
   "outputs": [
    {
     "output_type": "execute_result",
     "data": {
      "text/plain": "['많다', '넓다', '아늑하다', '쾌적하다', '좋다']"
     },
     "metadata": {},
     "execution_count": 13
    }
   ],
   "source": [
    "adjs = [i[0] for i in parsed_data if i[1]=='Adjective']\n",
    "adjs\n",
    "# 넓다.\n",
    "# 아늑하다\n",
    "# 쾌적하다"
   ]
  },
  {
   "cell_type": "code",
   "execution_count": 14,
   "metadata": {},
   "outputs": [],
   "source": [
    "'''\n",
    "위의 데이터에서 제일 중요한 것: 넓다, 아늑하다, 쾌적하다\n",
    "필요 없는 데이터: 많다, 좋다\n",
    "필요 없는 데이터를 과연 어떻게 걸러낼 것인가...\n",
    "'''\n",
    "def model_cos(A, B):\n",
    "    return cos_sim(model.get_word_vector(A), model.get_word_vector(B))"
   ]
  },
  {
   "cell_type": "code",
   "execution_count": 15,
   "metadata": {},
   "outputs": [],
   "source": [
    "def print_recursive(param):\n",
    "    for i in range(len(param)):\n",
    "        print()\n",
    "        for j in range(len(param)):\n",
    "            if i == j:\n",
    "                continue\n",
    "            print(f\"{param[i]}, {param[j]}: {model_cos(param[i], param[j])}\")"
   ]
  },
  {
   "cell_type": "code",
   "execution_count": 16,
   "metadata": {
    "tags": []
   },
   "outputs": [
    {
     "output_type": "stream",
     "name": "stdout",
     "text": "\n많다, 넓다: -0.040319424122571945\n많다, 아늑하다: -0.026820259168744087\n많다, 쾌적하다: 0.013399380259215832\n많다, 좋다: -0.14908938109874725\n\n넓다, 많다: -0.040319424122571945\n넓다, 아늑하다: 0.17025969922542572\n넓다, 쾌적하다: 0.16057512164115906\n넓다, 좋다: 0.12555243074893951\n\n아늑하다, 많다: -0.026820259168744087\n아늑하다, 넓다: 0.17025969922542572\n아늑하다, 쾌적하다: 0.7843034863471985\n아늑하다, 좋다: 0.4947142004966736\n\n쾌적하다, 많다: 0.013399380259215832\n쾌적하다, 넓다: 0.16057512164115906\n쾌적하다, 아늑하다: 0.7843034863471985\n쾌적하다, 좋다: 0.4141066074371338\n\n좋다, 많다: -0.14908938109874725\n좋다, 넓다: 0.12555243074893951\n좋다, 아늑하다: 0.4947142004966736\n좋다, 쾌적하다: 0.4141066074371338\n"
    }
   ],
   "source": [
    "#print(model_cos(\"많다\", \"넓다\"), model_cos(\"넓다\", \"아늑하다\"), model_cos(\"많다\", \"쾌적하다\"), model_cos(\"많다\", \"좋다\"))\n",
    "print_recursive(adjs)"
   ]
  },
  {
   "cell_type": "code",
   "execution_count": 10,
   "metadata": {},
   "outputs": [],
   "source": [
    "def test_sentence(param):\n",
    "    posed = parser.pos(param, stem=True)\n",
    "    data = [i[0] for i in posed if i[1]=='Adjective']\n",
    "    print_recursive(data)\n"
   ]
  },
  {
   "cell_type": "code",
   "execution_count": 11,
   "metadata": {
    "tags": []
   },
   "outputs": [
    {
     "output_type": "stream",
     "name": "stdout",
     "text": "\n맛있다, 맛있다: 0.9999999403953552\n\n맛있다, 맛있다: 0.9999999403953552\n"
    }
   ],
   "source": [
    "test_sentence(\"사장님이 너무 친절 하시네요 빵도 맛있습니다 특히 샌드위치가 너무 맛있네요\")"
   ]
  },
  {
   "cell_type": "code",
   "execution_count": 12,
   "metadata": {},
   "outputs": [
    {
     "output_type": "execute_result",
     "data": {
      "text/plain": "[('사장', 'Noun'),\n ('님', 'Suffix'),\n ('이', 'Josa'),\n ('너무', 'Adverb'),\n ('친절', 'Noun'),\n ('하시네요', 'Verb'),\n ('빵', 'Noun'),\n ('도', 'Josa'),\n ('맛있습니다', 'Adjective'),\n ('특히', 'Adverb'),\n ('샌드위치', 'Noun'),\n ('가', 'Josa'),\n ('너무', 'Adverb'),\n ('맛있네요', 'Adjective')]"
     },
     "metadata": {},
     "execution_count": 12
    }
   ],
   "source": [
    "parser.pos(\"사장님이 너무 친절 하시네요 빵도 맛있습니다 특히 샌드위치가 너무 맛있네요\")"
   ]
  },
  {
   "cell_type": "code",
   "execution_count": 29,
   "metadata": {},
   "outputs": [
    {
     "output_type": "execute_result",
     "data": {
      "text/plain": "0.42039704"
     },
     "metadata": {},
     "execution_count": 29
    }
   ],
   "source": [
    "model_cos(\"국방부장관\", \"김태영\")"
   ]
  },
  {
   "cell_type": "code",
   "execution_count": 33,
   "metadata": {},
   "outputs": [],
   "source": [
    "array = model.get_word_vector(\"한국\") - model.get_word_vector(\"서울\") + model.get_word_vector(\"도쿄\")"
   ]
  },
  {
   "cell_type": "code",
   "execution_count": 39,
   "metadata": {},
   "outputs": [
    {
     "output_type": "execute_result",
     "data": {
      "text/plain": "<fasttext.FastText._FastText at 0x20f98e86188>"
     },
     "metadata": {},
     "execution_count": 39
    }
   ],
   "source": [
    "model"
   ]
  },
  {
   "cell_type": "code",
   "execution_count": 64,
   "metadata": {},
   "outputs": [
    {
     "output_type": "execute_result",
     "data": {
      "text/plain": "array([-0.14611626, -0.01621023,  0.01903511,  0.02962443,  0.01624297,\n       -0.09618955, -0.15415958, -0.03323527, -0.06980585, -0.02150374,\n       -0.05566195, -0.04968221,  0.06681278, -0.12751429, -0.01174389,\n       -0.06715393,  0.03407922,  0.00733754,  0.07310134,  0.08389422,\n       -0.01361466, -0.11672994,  0.0322118 ,  0.02135915,  0.05110433,\n        0.00962487, -0.13595591, -0.06638823, -0.05038622, -0.0356696 ,\n        0.08985589, -0.01120962,  0.03992796,  0.05014847, -0.00021282,\n        0.05258455, -0.03264805,  0.05684883, -0.0515701 , -0.00328654,\n        0.07002423, -0.00059311, -0.09263798,  0.00605734,  0.08439884,\n       -0.10955266, -0.02294063, -0.02506508, -0.12513395,  0.06198175,\n       -0.14579593,  0.02518399, -0.06459211,  0.07762942,  0.11503398,\n       -0.1370856 ,  0.05565992, -0.08337105, -0.01067462, -0.06143223,\n       -0.04036436, -0.02084969, -0.06245148,  0.09009117,  0.07931037,\n        0.07712352,  0.15380679, -0.03900255, -0.07398573,  0.02631002,\n        0.07731269,  0.06866324, -0.04213903, -0.02504043,  0.02312669,\n        0.03640896, -0.00389021,  0.19144161, -0.16548306,  0.05588691,\n       -0.07144657, -0.00117396,  0.02171286,  0.12112359, -0.07974786,\n        0.02258304,  0.01351551,  0.01762723, -0.06693242, -0.08987387,\n        0.09534957,  0.00255344,  0.03410837, -0.07693743, -0.15749979,\n        0.03164632,  0.06047062, -0.09766777,  0.03697627,  0.18875834],\n      dtype=float32)"
     },
     "metadata": {},
     "execution_count": 64
    }
   ],
   "source": [
    "model"
   ]
  },
  {
   "cell_type": "code",
   "execution_count": null,
   "metadata": {},
   "outputs": [],
   "source": [
    "#모든게 잘되어있는데 한가지 아쉬운게 있습니다. 다른게 아니고 지하철에서 올라올때 표지판이 혼란을줍니다. 충남쪽방향 모두를 호남선으로 표기해놓아서 혼란이 많다는 지적들을 합니다. 호남행 표지판에 충남쪽 표시를 해주시면 어떨까요! 작은배려가 큰 고마움과 감사한 마음을 가지기 때문입니다. 참고해주시면 감사하겠습니다."
   ]
  }
 ],
 "metadata": {
  "language_info": {
   "codemirror_mode": {
    "name": "ipython",
    "version": 3
   },
   "file_extension": ".py",
   "mimetype": "text/x-python",
   "name": "python",
   "nbconvert_exporter": "python",
   "pygments_lexer": "ipython3",
   "version": 3
  },
  "orig_nbformat": 2,
  "kernelspec": {
   "name": "python_defaultSpec_1595635347866",
   "display_name": "Python 3.7.4 64-bit ('base': conda)"
  }
 },
 "nbformat": 4,
 "nbformat_minor": 2
}