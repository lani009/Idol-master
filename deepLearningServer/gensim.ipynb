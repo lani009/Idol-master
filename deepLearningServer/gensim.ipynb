{
 "cells": [
  {
   "cell_type": "code",
   "execution_count": 3,
   "metadata": {
    "tags": []
   },
   "outputs": [
    {
     "output_type": "stream",
     "name": "stdout",
     "text": "W2V model Loading\nmodel Loaded!!!\nposerLoading\n"
    },
    {
     "output_type": "execute_result",
     "data": {
      "text/plain": "{'EC': '연결 어미',\n 'ECD': '의존적 연결 어미',\n 'ECE': '대등 연결 어미',\n 'ECS': '보조적 연결 어미',\n 'EF': '종결 어미',\n 'EFA': '청유형 종결 어미',\n 'EFI': '감탄형 종결 어미',\n 'EFN': '평서형 종결 어미',\n 'EFO': '명령형 종결 어미',\n 'EFQ': '의문형 종결 어미',\n 'EFR': '존칭형 종결 어미',\n 'EP': '선어말 어미',\n 'EPH': '존칭 선어말 어미',\n 'EPP': '공손 선어말 어미',\n 'EPT': '시제 선어말 어미',\n 'ET': '전성 어미',\n 'ETD': '관형형 전성 어미',\n 'ETN': '명사형 전성 어미',\n 'IC': '감탄사',\n 'JC': '접속 조사',\n 'JK': '조사',\n 'JKC': '보격 조사',\n 'JKG': '관형격 조사',\n 'JKI': '호격 조사',\n 'JKM': '부사격 조사',\n 'JKO': '목적격 조사',\n 'JKQ': '인용격 조사',\n 'JKS': '주격 조사',\n 'JX': '보조사',\n 'MA': '부사',\n 'MAC': '접속 부사',\n 'MAG': '일반 부사',\n 'MD': '관형사',\n 'MDN': '수 관형사',\n 'MDT': '일반 관형사',\n 'NN': '명사',\n 'NNB': '일반 의존 명사',\n 'NNG': '보통명사',\n 'NNM': '단위 의존 명사',\n 'NNP': '고유명사',\n 'NP': '대명사',\n 'NR': '수사',\n 'OH': '한자',\n 'OL': '외국어',\n 'ON': '숫자',\n 'SE': '줄임표',\n 'SF': '마침표, 물음표, 느낌표',\n 'SO': '붙임표(물결,숨김,빠짐)',\n 'SP': '쉼표,가운뎃점,콜론,빗금',\n 'SS': '따옴표,괄호표,줄표',\n 'SW': '기타기호 (논리수학기호,화폐기호)',\n 'UN': '명사추정범주',\n 'VA': '형용사',\n 'VC': '지정사',\n 'VCN': \"부정 지정사, 형용사 '아니다'\",\n 'VCP': \"긍정 지정사, 서술격 조사 '이다'\",\n 'VV': '동사',\n 'VX': '보조 용언',\n 'VXA': '보조 형용사',\n 'VXV': '보조 동사',\n 'XP': '접두사',\n 'XPN': '체언 접두사',\n 'XPV': '용언 접두사',\n 'XR': '어근',\n 'XSA': '형용사 파생 접미사',\n 'XSN': '명사파생 접미사',\n 'XSV': '동사 파생 접미사'}"
     },
     "metadata": {},
     "execution_count": 3
    }
   ],
   "source": [
    "# conda install -c anaconda gensim\n",
    "from gensim.models import word2vec\n",
    "from konlpy.tag import Kkma\n",
    "\n",
    "kkma = Kkma()\n",
    "print('W2V model Loading')\n",
    "filename = './model/wiki.model'\n",
    "model = word2vec.Word2Vec.load(filename)\n",
    "print('model Loaded!!!')\n",
    "print('poserLoading')\n",
    "kkma.tagset"
   ]
  },
  {
   "cell_type": "code",
   "execution_count": 6,
   "metadata": {},
   "outputs": [
    {
     "output_type": "execute_result",
     "data": {
      "text/plain": "['안녕', '여기', '맛', '맛집', '집', '절대', '가지', '마세', '돈', '돈낭비', '낭비']"
     },
     "metadata": {},
     "execution_count": 6
    }
   ],
   "source": [
    "review = \"안녕하세요. 여기 맛집이라고 해서 왔는데 진짜 더럽게 맛없음. 절대로 가지 마세요 돈낭비함.\"\n",
    "\n",
    "nouns = kkma.nouns(review)\n",
    "nouns"
   ]
  },
  {
   "cell_type": "code",
   "execution_count": 10,
   "metadata": {
    "tags": []
   },
   "outputs": [
    {
     "output_type": "stream",
     "name": "stdout",
     "text": "0.38703358 0.5064757\n"
    }
   ],
   "source": [
    "total_pros = 0\n",
    "for word in nouns:\n",
    "    try:\n",
    "        total_pros = model.wv.similarity(\"긍정\", word)\n",
    "    except:\n",
    "        pass\n",
    "\n",
    "total_cons = 0\n",
    "\n",
    "for word in nouns:\n",
    "    try:\n",
    "        total_cons = model.wv.similarity(\"부정\", word)\n",
    "    except:\n",
    "        pass\n",
    "\n",
    "print(total_pros, total_cons)"
   ]
  },
  {
   "cell_type": "code",
   "execution_count": null,
   "metadata": {},
   "outputs": [],
   "source": []
  }
 ],
 "metadata": {
  "language_info": {
   "codemirror_mode": {
    "name": "ipython",
    "version": 3
   },
   "file_extension": ".py",
   "mimetype": "text/x-python",
   "name": "python",
   "nbconvert_exporter": "python",
   "pygments_lexer": "ipython3",
   "version": "3.7.4-final"
  },
  "orig_nbformat": 2,
  "kernelspec": {
   "name": "python37464bitbaseconda06e92ce5b90945ae94195a38d448fcb7",
   "display_name": "Python 3.7.4 64-bit ('base': conda)"
  }
 },
 "nbformat": 4,
 "nbformat_minor": 2
}