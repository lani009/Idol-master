{
 "cells": [
  {
   "cell_type": "code",
   "execution_count": 1,
   "metadata": {
    "tags": []
   },
   "outputs": [
    {
     "output_type": "stream",
     "name": "stdout",
     "text": "W2V model Loading\nmodel Loaded!!!\nposerLoading\n"
    },
    {
     "output_type": "execute_result",
     "data": {
      "text/plain": "[('poserLoaded', 'Alpha')]"
     },
     "metadata": {},
     "execution_count": 1
    }
   ],
   "source": [
    "# conda install -c anaconda gensim\n",
    "from gensim.models import word2vec\n",
    "from konlpy.tag import Twitter\n",
    "\n",
    "twitter = Twitter()\n",
    "print('W2V model Loading')\n",
    "filename = './model/wiki.model'\n",
    "model = word2vec.Word2Vec.load(filename)\n",
    "print('model Loaded!!!')\n",
    "print('poserLoading')\n",
    "twitter.pos('poserLoaded')"
   ]
  },
  {
   "cell_type": "code",
   "execution_count": 17,
   "metadata": {},
   "outputs": [
    {
     "output_type": "execute_result",
     "data": {
      "text/plain": "[('안녕하세요', 'Adjective'),\n ('.', 'Punctuation'),\n ('여기', 'Noun'),\n ('맛집', 'Noun'),\n ('이라고', 'Josa'),\n ('해서', 'Verb'),\n ('왔는데', 'Verb'),\n ('진짜', 'Noun'),\n ('더럽게', 'Adjective'),\n ('맛없음', 'Adjective'),\n ('.', 'Punctuation'),\n ('절대로', 'Noun'),\n ('가지', 'Noun'),\n ('마세요', 'Verb'),\n ('돈', 'Noun'),\n ('낭비함', 'Adjective'),\n ('.', 'Punctuation')]"
     },
     "metadata": {},
     "execution_count": 17
    }
   ],
   "source": [
    "review = \"안녕하세요. 여기 맛집이라고 해서 왔는데 진짜 더럽게 맛없음. 절대로 가지 마세요 돈낭비함.\"\n",
    "\n",
    "twitter.pos(review)"
   ]
  },
  {
   "cell_type": "code",
   "execution_count": null,
   "metadata": {},
   "outputs": [],
   "source": [
    "model.wv.similarity(\"물리\" , \"과학\")\n",
    "\n",
    "model.wv.similar_by_vector(\"물리\")"
   ]
  },
  {
   "cell_type": "code",
   "execution_count": null,
   "metadata": {},
   "outputs": [],
   "source": []
  }
 ],
 "metadata": {
  "language_info": {
   "codemirror_mode": {
    "name": "ipython",
    "version": 3
   },
   "file_extension": ".py",
   "mimetype": "text/x-python",
   "name": "python",
   "nbconvert_exporter": "python",
   "pygments_lexer": "ipython3",
   "version": "3.7.4-final"
  },
  "orig_nbformat": 2,
  "kernelspec": {
   "name": "python37464bitbaseconda06e92ce5b90945ae94195a38d448fcb7",
   "display_name": "Python 3.7.4 64-bit ('base': conda)"
  }
 },
 "nbformat": 4,
 "nbformat_minor": 2
}