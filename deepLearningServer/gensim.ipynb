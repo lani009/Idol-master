{
 "cells": [
  {
   "cell_type": "code",
   "execution_count": 6,
   "metadata": {
    "tags": []
   },
   "outputs": [
    {
     "output_type": "stream",
     "name": "stdout",
     "text": "W2V model Loading\nmodel Loaded!!!\nposerLoading\n"
    },
    {
     "output_type": "execute_result",
     "data": {
      "text/plain": "[('poserLoaded', 'Alpha')]"
     },
     "metadata": {},
     "execution_count": 6
    }
   ],
   "source": [
    "# conda install -c anaconda gensim\n",
    "from gensim.models import word2vec\n",
    "from konlpy.tag import Twitter\n",
    "\n",
    "twitter = Twitter()\n",
    "print('W2V model Loading')\n",
    "filename = './model/wiki.model'\n",
    "model = word2vec.Word2Vec.load(filename)\n",
    "print('model Loaded!!!')\n",
    "print('poserLoading')\n",
    "twitter.pos('poserLoaded')\n"
   ]
  },
  {
   "cell_type": "code",
   "execution_count": 10,
   "metadata": {},
   "outputs": [
    {
     "output_type": "execute_result",
     "data": {
      "text/plain": "-0.06771379"
     },
     "metadata": {},
     "execution_count": 10
    }
   ],
   "source": [
    "model.wv.similarity(\"안녕\" , \"테스트\")"
   ]
  }
 ],
 "metadata": {
  "language_info": {
   "codemirror_mode": {
    "name": "ipython",
    "version": 3
   },
   "file_extension": ".py",
   "mimetype": "text/x-python",
   "name": "python",
   "nbconvert_exporter": "python",
   "pygments_lexer": "ipython3",
   "version": "3.7.4-final"
  },
  "orig_nbformat": 2,
  "kernelspec": {
   "name": "python37464bitbaseconda06e92ce5b90945ae94195a38d448fcb7",
   "display_name": "Python 3.7.4 64-bit ('base': conda)"
  }
 },
 "nbformat": 4,
 "nbformat_minor": 2
}