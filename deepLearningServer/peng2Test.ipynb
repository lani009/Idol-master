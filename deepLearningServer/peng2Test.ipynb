{
 "metadata": {
  "language_info": {
   "codemirror_mode": {
    "name": "ipython",
    "version": 3
   },
   "file_extension": ".py",
   "mimetype": "text/x-python",
   "name": "python",
   "nbconvert_exporter": "python",
   "pygments_lexer": "ipython3",
   "version": "3.7.6-final"
  },
  "orig_nbformat": 2,
  "kernelspec": {
   "name": "python_defaultSpec_1595852617388",
   "display_name": "Python 3.7.6 64-bit ('base': conda)"
  }
 },
 "nbformat": 4,
 "nbformat_minor": 2,
 "cells": [
  {
   "cell_type": "code",
   "execution_count": 8,
   "metadata": {
    "tags": []
   },
   "outputs": [],
   "source": [
    "from gensim.models import FastText\n",
    "model = FastText.load_fasttext_format(\"./model/fasttext.bin\")"
   ]
  },
  {
   "cell_type": "code",
   "execution_count": 9,
   "metadata": {},
   "outputs": [],
   "source": [
    "from konlpy.tag import Kkma\n",
    "from konlpy.tag import Okt\n",
    "kkma = Kkma()\n",
    "okt = Okt()"
   ]
  },
  {
   "cell_type": "code",
   "execution_count": 26,
   "metadata": {},
   "outputs": [
    {
     "output_type": "execute_result",
     "data": {
      "text/plain": "[('아버지', 'NNG'),\n ('가방', 'NNG'),\n ('에', 'JKM'),\n ('들어가', 'VV'),\n ('시', 'EPH'),\n ('ㄴ다', 'EFN')]"
     },
     "metadata": {},
     "execution_count": 26
    }
   ],
   "source": [
    "kkma.pos(\"아버지가방에 들어가신다\")"
   ]
  },
  {
   "cell_type": "code",
   "execution_count": 13,
   "metadata": {},
   "outputs": [
    {
     "output_type": "execute_result",
     "data": {
      "text/plain": "[('맛있다', 'Adjective'), ('추다', 'Verb'), ('더럽다', 'Adjective')]"
     },
     "metadata": {},
     "execution_count": 13
    }
   ],
   "source": [
    "okt.pos(\"맛있고 춥고 더러워요\", stem=True)"
   ]
  },
  {
   "cell_type": "code",
   "execution_count": 14,
   "metadata": {},
   "outputs": [
    {
     "output_type": "execute_result",
     "data": {
      "text/plain": "0.4607451558113098"
     },
     "metadata": {},
     "execution_count": 14
    }
   ],
   "source": [
    "model.wv.distance(\"아이즈원\", \"최예나\")"
   ]
  },
  {
   "cell_type": "code",
   "execution_count": 15,
   "metadata": {},
   "outputs": [
    {
     "output_type": "execute_result",
     "data": {
      "text/plain": "[('생각', 'Noun'),\n ('보다', 'Josa'),\n ('사람', 'Noun'),\n ('들', 'Suffix'),\n ('도', 'Josa'),\n ('많다', 'Adjective'),\n ('넓다', 'Adjective'),\n ('놀라다', 'Verb'),\n ('!', 'Punctuation'),\n ('외관', 'Noun'),\n ('에서부터', 'Josa'),\n ('풍기다', 'Verb'),\n ('아늑하다', 'Adjective'),\n ('분위기', 'Noun'),\n ('와', 'Josa'),\n ('딱', 'Adverb'),\n ('안성맞춤', 'Noun'),\n ('의', 'Josa'),\n ('인테리어', 'Noun'),\n ('로', 'Josa'),\n ('쾌적하다', 'Adjective'),\n ('좋다', 'Adjective'),\n ('~', 'Punctuation')]"
     },
     "metadata": {},
     "execution_count": 15
    }
   ],
   "source": [
    "posed = okt.pos('생각보다 사람들도 많았고 넓어서 놀랐어용! 외관에서부터 풍기는 아늑한분위기와 딱 안성맞춤의 인테리어로 쾌적하고 좋더라구요~', stem=True, norm=True)\n",
    "posed"
   ]
  },
  {
   "cell_type": "code",
   "execution_count": 40,
   "metadata": {},
   "outputs": [],
   "source": [
    "adj = [i for i in posed if i[1]=='Adjective']"
   ]
  },
  {
   "cell_type": "code",
   "execution_count": 16,
   "metadata": {},
   "outputs": [
    {
     "output_type": "execute_result",
     "data": {
      "text/plain": "[('많다', 'Adjective'),\n ('넓다', 'Adjective'),\n ('아늑하다', 'Adjective'),\n ('쾌적하다', 'Adjective'),\n ('좋다', 'Adjective')]"
     },
     "metadata": {},
     "execution_count": 16
    }
   ],
   "source": [
    "adj"
   ]
  },
  {
   "cell_type": "code",
   "execution_count": 38,
   "metadata": {},
   "outputs": [
    {
     "output_type": "execute_result",
     "data": {
      "text/plain": "[('생각', 'NNG'),\n ('보다', 'JKM'),\n ('사람', 'NNG'),\n ('들', 'XSN'),\n ('도', 'JX'),\n ('많', 'VA'),\n ('았', 'EPT'),\n ('고', 'ECE'),\n ('넓', 'VA'),\n ('어서', 'ECD'),\n ('놀라', 'VV'),\n ('었', 'EPT'),\n ('어요', 'EFN'),\n ('!', 'SF'),\n ('외관', 'NNG'),\n ('에서', 'JKM'),\n ('부터', 'JX'),\n ('풍기', 'VV'),\n ('는', 'ETD'),\n ('아늑', 'XR'),\n ('하', 'XSA'),\n ('ㄴ', 'ETD'),\n ('분위기', 'NNG'),\n ('와', 'JKM'),\n ('딱', 'MAG'),\n ('안성맞춤', 'NNG'),\n ('의', 'JKG'),\n ('인테리어', 'NNG'),\n ('로', 'JKM'),\n ('쾌적', 'XR'),\n ('하', 'XSA'),\n ('고', 'ECE'),\n ('좋', 'VA'),\n ('더', 'EPT'),\n ('라구요', 'EFN'),\n ('~', 'SO')]"
     },
     "metadata": {},
     "execution_count": 38
    }
   ],
   "source": [
    "POSED = kkma.pos(\"생각보다 사람들도 많았고 넓어서 놀랐어용! 외관에서부터 풍기는 아늑한분위기와 딱 안성맞춤의 인테리어로 쾌적하고 좋더라구요~\")\n",
    "POSED"
   ]
  },
  {
   "cell_type": "code",
   "execution_count": 90,
   "metadata": {
    "tags": []
   },
   "outputs": [
    {
     "output_type": "stream",
     "name": "stdout",
     "text": "[5, 8, 19, 29, 32]\n[0, 2, 14, 22, 25, 27]\n5\n8\n32\n[('많', 'VA'), ('넓', 'VA'), ('아늑', 'XR'), ('쾌적', 'XR'), ('좋', 'VA')]\n['사람 많음', '사람 넓음', '사람 넓음', '사람 넓음', '인테리어 좋음']\n"
    }
   ],
   "source": [
    "adj = []\n",
    "cnt = 0\n",
    "floor =[]\n",
    "stair =[]\n",
    "cnt2=0\n",
    "cnt3=0\n",
    "MAX=0\n",
    "last=[]\n",
    "\n",
    "# XR이나 VA찾는거\n",
    "for index,i in enumerate(POSED):\n",
    "    if i[1]=='XR' or i[1]=='VA':\n",
    "        adj.append(i)\n",
    "        floor.insert(cnt,index)\n",
    "        cnt+=1\n",
    "print(floor)\n",
    "\n",
    "# NNG 찾는거\n",
    "for index,i in enumerate(POSED):\n",
    "        if i[1] =='NNG':\n",
    "            stair.insert(cnt2,index)\n",
    "            cnt2+=1\n",
    "print(stair)\n",
    "\n",
    "# 마지막거\n",
    "for index,i in enumerate(adj):\n",
    "        if i[1]=='VA':\n",
    "            check=floor[index]\n",
    "            print(check)\n",
    "            for index2,j in enumerate(stair):\n",
    "                if j < check:\n",
    "                    cnt3+=1\n",
    "                    MAX=stair[index2]\n",
    "        last.append(POSED[MAX][0]+ \" \" +POSED[check][0]+\"음\")\n",
    "\n",
    "print(adj)\n",
    "print(last)\n",
    "    "
   ]
  },
  {
   "cell_type": "code",
   "execution_count": 96,
   "metadata": {
    "tags": []
   },
   "outputs": [
    {
     "output_type": "stream",
     "name": "stdout",
     "text": "['아늑함', '쾌적함', '사람 많음', '인테리어 좋음']\n"
    }
   ],
   "source": [
    "# XR 빼내서 XR[] 배열에 저장\n",
    "xr=[]\n",
    "va=[] # va + nng\n",
    "vanng=[]\n",
    "for index,i in enumerate(POSED):\n",
    "    if i[1]=='XR':\n",
    "        xr.append(i[0])\n",
    "# VA 과 NNG 만빼내서 저장\n",
    "for index,i in enumerate(POSED):\n",
    "    if i[1]=='NNG' or i[1]=='VA':\n",
    "        va.append(i)\n",
    "\n",
    "# VA 인덱스의 -1 번째 항이 NNG 일경우 합친것을 다른 배열에 저장.\n",
    "for index,i in enumerate(va):\n",
    "    if va[index][1] == 'VA':\n",
    "        if index == 0:\n",
    "            continue\n",
    "        elif va[index-1][1]=='NNG':\n",
    "            vanng.append(va[index-1][0] + \" \" + va[index][0]+\"음\")\n",
    "\n",
    "# 만약 그렇지 않을 경우 패스// EX) 넓음\n",
    "# XR[] 과 VA[] 합치기\n",
    "xr_va = xr + vanng\n",
    "print(xr_va)"
   ]
  },
  {
   "cell_type": "code",
   "execution_count": 108,
   "metadata": {},
   "outputs": [],
   "source": [
    "def tag_parser(sentence):\n",
    "    paser = kkma.pos(sentence)\n",
    "    # XR 빼내서 XR[] 배열에 저장\n",
    "    xr=[]\n",
    "    va=[] # va + nng\n",
    "    vanng=[]\n",
    "    for index,i in enumerate(paser):\n",
    "        if i[1]=='XR':\n",
    "            xr.append(i[0])\n",
    "    # VA 과 NNG 만빼내서 저장\n",
    "    for index,i in enumerate(paser):\n",
    "        if i[1]=='NNG' or i[1]=='VA':\n",
    "            va.append(i)\n",
    "\n",
    "    # VA 인덱스의 -1 번째 항이 NNG 일경우 합친것을 다른 배열에 저장.\n",
    "    for index,i in enumerate(va):\n",
    "        if va[index][1] == 'VA':\n",
    "            if index == 0:\n",
    "                continue\n",
    "            elif va[index-1][1]=='NNG':\n",
    "                vanng.append(va[index-1][0] + \" \" + va[index][0]+\"음\")\n",
    "\n",
    "    # 만약 그렇지 않을 경우 패스// EX) 넓음\n",
    "    # XR[] 과 VA[] 합치기\n",
    "    return xr + vanng"
   ]
  },
  {
   "cell_type": "code",
   "execution_count": 110,
   "metadata": {},
   "outputs": [
    {
     "output_type": "execute_result",
     "data": {
      "text/plain": "['성비 좋음', '싸가지 없음']"
     },
     "metadata": {},
     "execution_count": 110
    }
   ],
   "source": [
    "tag_parser(\"5천원짜리 해장국.  예전엔 짜투리고기도 몇점 들어가고 가성비 좋았는데 이제는 그냥 소기름 넣은 된장국에 선지만 들어간 해장국 주인도 바뀐건지 종업원이 싸가지가 없는건지 손님을 개취급해서 다시는 가고 싶지 않다\")"
   ]
  },
  {
   "cell_type": "code",
   "execution_count": 111,
   "metadata": {},
   "outputs": [
    {
     "output_type": "execute_result",
     "data": {
      "text/plain": "[('5', 'NR'),\n ('천', 'NR'),\n ('원', 'NNG'),\n ('짜리', 'XSN'),\n ('하', 'VV'),\n ('어', 'ECS'),\n ('장국', 'NNG'),\n ('.', 'SF'),\n ('예전', 'NNG'),\n ('에', 'JKM'),\n ('는', 'JX'),\n ('짜', 'VV'),\n ('아', 'ECS'),\n ('투리', 'NNG'),\n ('이', 'VCP'),\n ('고', 'ECE'),\n ('기도', 'NNG'),\n ('몇', 'MDT'),\n ('점', 'NNG'),\n ('들어가', 'VV'),\n ('고', 'ECE'),\n ('가', 'VV'),\n ('아', 'ECS'),\n ('성비', 'NNG'),\n ('좋', 'VA'),\n ('았', 'EPT'),\n ('는데', 'ECD'),\n ('이제', 'NNG'),\n ('는', 'JX'),\n ('그냥', 'MAG'),\n ('소기름', 'NNG'),\n ('넣', 'VV'),\n ('은', 'ETD'),\n ('된장국', 'NNG'),\n ('에', 'JKM'),\n ('선지', 'NNG'),\n ('만', 'JX'),\n ('들어가', 'VV'),\n ('ㄴ', 'ETD'),\n ('해장국', 'NNG'),\n ('주인', 'NNG'),\n ('도', 'JX'),\n ('바뀌', 'VV'),\n ('ㄴ', 'ETD'),\n ('것', 'NNB'),\n ('이', 'VCP'),\n ('ㄴ지', 'ECS'),\n ('종업원', 'NNG'),\n ('이', 'JKS'),\n ('싸가지', 'NNG'),\n ('가', 'JKS'),\n ('없', 'VA'),\n ('는', 'ETD'),\n ('것', 'NNB'),\n ('이', 'VCP'),\n ('ㄴ지', 'ECS'),\n ('손님', 'NNG'),\n ('을', 'JKO'),\n ('개', 'NNG'),\n ('취급', 'NNG'),\n ('하', 'XSV'),\n ('어서', 'ECD'),\n ('다시', 'MAG'),\n ('는', 'JX'),\n ('가', 'VV'),\n ('고', 'ECE'),\n ('싶', 'VXA'),\n ('지', 'ECD'),\n ('않', 'VXV'),\n ('다', 'EFN')]"
     },
     "metadata": {},
     "execution_count": 111
    }
   ],
   "source": [
    "pos=kkma.pos(\"5천원짜리 해장국.  예전엔 짜투리고기도 몇점 들어가고 가성비 좋았는데 이제는 그냥 소기름 넣은 된장국에 선지만 들어간 해장국 주인도 바뀐건지 종업원이 싸가지가 없는건지 손님을 개취급해서 다시는 가고 싶지 않다\")\n",
    "pos"
   ]
  },
  {
   "cell_type": "code",
   "execution_count": null,
   "metadata": {},
   "outputs": [],
   "source": []
  }
 ]
}